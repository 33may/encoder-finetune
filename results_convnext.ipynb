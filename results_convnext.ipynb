version https://git-lfs.github.com/spec/v1
oid sha256:5714491bfc452287456f6426b92eb7f3fdddb1418dfa6795f270cdab0bd3569d
size 21389112
