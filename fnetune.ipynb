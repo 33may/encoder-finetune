version https://git-lfs.github.com/spec/v1
oid sha256:d7bf7469eefc7f2fb2685ba455482652adaad6bb759e936e04c46141c1d99ca3
size 17391270
